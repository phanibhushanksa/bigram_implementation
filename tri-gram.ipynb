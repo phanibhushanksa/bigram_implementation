{
 "cells": [
  {
   "cell_type": "code",
   "execution_count": 1,
   "metadata": {},
   "outputs": [],
   "source": [
    "import torch\n"
   ]
  },
  {
   "cell_type": "code",
   "execution_count": 5,
   "metadata": {},
   "outputs": [],
   "source": [
    "# importing all the names into a list\n",
    "words = open('names.txt', 'r').read().splitlines()"
   ]
  },
  {
   "cell_type": "code",
   "execution_count": 8,
   "metadata": {},
   "outputs": [],
   "source": [
    "chars = sorted(list(set(''.join(words))))"
   ]
  },
  {
   "cell_type": "code",
   "execution_count": 11,
   "metadata": {},
   "outputs": [
    {
     "data": {
      "text/plain": [
       "({'a': 0,\n",
       "  'b': 1,\n",
       "  'c': 2,\n",
       "  'd': 3,\n",
       "  'e': 4,\n",
       "  'f': 5,\n",
       "  'g': 6,\n",
       "  'h': 7,\n",
       "  'i': 8,\n",
       "  'j': 9,\n",
       "  'k': 10,\n",
       "  'l': 11,\n",
       "  'm': 12,\n",
       "  'n': 13,\n",
       "  'o': 14,\n",
       "  'p': 15,\n",
       "  'q': 16,\n",
       "  'r': 17,\n",
       "  's': 18,\n",
       "  't': 19,\n",
       "  'u': 20,\n",
       "  'v': 21,\n",
       "  'w': 22,\n",
       "  'x': 23,\n",
       "  'y': 24,\n",
       "  'z': 25,\n",
       "  '.': 26},\n",
       " {0: 'a',\n",
       "  1: 'b',\n",
       "  2: 'c',\n",
       "  3: 'd',\n",
       "  4: 'e',\n",
       "  5: 'f',\n",
       "  6: 'g',\n",
       "  7: 'h',\n",
       "  8: 'i',\n",
       "  9: 'j',\n",
       "  10: 'k',\n",
       "  11: 'l',\n",
       "  12: 'm',\n",
       "  13: 'n',\n",
       "  14: 'o',\n",
       "  15: 'p',\n",
       "  16: 'q',\n",
       "  17: 'r',\n",
       "  18: 's',\n",
       "  19: 't',\n",
       "  20: 'u',\n",
       "  21: 'v',\n",
       "  22: 'w',\n",
       "  23: 'x',\n",
       "  24: 'y',\n",
       "  25: 'z',\n",
       "  26: '.'})"
      ]
     },
     "execution_count": 11,
     "metadata": {},
     "output_type": "execute_result"
    }
   ],
   "source": [
    "stoi = {s:i for i,s in enumerate(chars)}\n",
    "stoi['.'] = 26\n",
    "# getting the inverse mapping\n",
    "itos = {i:s for s,i in stoi.items()}\n",
    "stoi, itos"
   ]
  },
  {
   "cell_type": "code",
   "execution_count": 14,
   "metadata": {},
   "outputs": [
    {
     "data": {
      "text/plain": [
       "'olivia'"
      ]
     },
     "execution_count": 14,
     "metadata": {},
     "output_type": "execute_result"
    }
   ],
   "source": [
    "words[1]"
   ]
  },
  {
   "cell_type": "code",
   "execution_count": 12,
   "metadata": {},
   "outputs": [
    {
     "name": "stdout",
     "output_type": "stream",
     "text": [
      "tensor([26,  4, 12, 12,  0])\n",
      "tensor([ 4, 12, 12,  0, 26])\n"
     ]
    }
   ],
   "source": [
    "xs, ys = [],[]\n",
    "\n",
    "for w in words[:1]:\n",
    "    chs = ['.']+ list(w) + ['.']\n",
    "    for ch1, ch2 in zip(chs,chs[1:]):\n",
    "        ix1 = stoi[ch1]\n",
    "        ix2 = stoi[ch2]\n",
    "        xs.append(ix1)\n",
    "        ys.append(ix2)\n",
    "\n",
    "# converting to long() due to bug in converting to one_hot \n",
    "xs = torch.tensor(xs).long()\n",
    "ys = torch.tensor(ys).long()\n",
    "\n",
    "print(xs)\n",
    "print(ys)"
   ]
  }
 ],
 "metadata": {
  "kernelspec": {
   "display_name": "py395_eda",
   "language": "python",
   "name": "python3"
  },
  "language_info": {
   "codemirror_mode": {
    "name": "ipython",
    "version": 3
   },
   "file_extension": ".py",
   "mimetype": "text/x-python",
   "name": "python",
   "nbconvert_exporter": "python",
   "pygments_lexer": "ipython3",
   "version": "3.9.5"
  }
 },
 "nbformat": 4,
 "nbformat_minor": 2
}
